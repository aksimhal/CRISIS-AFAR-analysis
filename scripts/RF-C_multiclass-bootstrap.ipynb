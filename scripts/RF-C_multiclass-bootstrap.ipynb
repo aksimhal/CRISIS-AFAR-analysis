{
 "cells": [
  {
   "cell_type": "code",
   "execution_count": null,
   "metadata": {},
   "outputs": [],
   "source": [
    "%matplotlib notebook\n",
    "import matplotlib.pyplot as plt\n",
    "import numpy as np\n",
    "import pandas as pd\n",
    "import seaborn as sns\n",
    "from matplotlib import ticker"
   ]
  },
  {
   "cell_type": "code",
   "execution_count": null,
   "metadata": {},
   "outputs": [],
   "source": [
    "fn = 'CRISISAFAR_Prediction_data.csv'"
   ]
  },
  {
   "cell_type": "code",
   "execution_count": null,
   "metadata": {},
   "outputs": [],
   "source": [
    "df = pd.read_csv(fn)"
   ]
  },
  {
   "cell_type": "code",
   "execution_count": null,
   "metadata": {},
   "outputs": [],
   "source": [
    "feature_names = df.columns[1:]"
   ]
  },
  {
   "cell_type": "code",
   "execution_count": null,
   "metadata": {},
   "outputs": [],
   "source": [
    "feature_names"
   ]
  },
  {
   "cell_type": "code",
   "execution_count": null,
   "metadata": {},
   "outputs": [],
   "source": [
    "corr_df = df[feature_names]"
   ]
  },
  {
   "cell_type": "code",
   "execution_count": null,
   "metadata": {},
   "outputs": [],
   "source": [
    "labels = df['cluster_label'].values"
   ]
  },
  {
   "cell_type": "code",
   "execution_count": null,
   "metadata": {},
   "outputs": [],
   "source": [
    "X_mat = df[feature_names].values"
   ]
  },
  {
   "cell_type": "code",
   "execution_count": null,
   "metadata": {},
   "outputs": [],
   "source": [
    "corr = corr_df.corr()\n",
    "fig = plt.figure(figsize=(10, 10))\n",
    "\n",
    "ax = fig.add_subplot(111)\n",
    "cax = ax.matshow(corr,cmap='coolwarm', vmin=-1, vmax=1)\n",
    "fig.colorbar(cax)\n",
    "ticks = np.arange(0,len(corr_df.columns),1)\n",
    "ax.set_xticks(ticks)\n",
    "ax.set_yticks(ticks)\n",
    "\n",
    "plt.xticks(rotation=90)\n",
    "ax.set_yticks(ticks,)\n",
    "ax.set_xticklabels(feature_names,fontsize=11)\n",
    "ax.set_yticklabels(feature_names,fontsize=11)\n",
    "plt.tight_layout()"
   ]
  },
  {
   "cell_type": "code",
   "execution_count": null,
   "metadata": {},
   "outputs": [],
   "source": [
    "from sklearn.ensemble import RandomForestClassifier\n",
    "from sklearn.model_selection import StratifiedKFold\n",
    "from sklearn.utils import resample\n",
    "from sklearn import metrics\n",
    "import scipy\n",
    "import rfpimp"
   ]
  },
  {
   "cell_type": "code",
   "execution_count": null,
   "metadata": {},
   "outputs": [],
   "source": [
    "rf = RandomForestClassifier(n_estimators=300, oob_score=True)\n",
    "number_of_folds = 3\n",
    "skf = StratifiedKFold(n_splits=number_of_folds, shuffle=True)\n",
    "\n",
    "num_of_loops=4000\n",
    "run_total = num_of_loops#*number_of_folds\n",
    "\n",
    "importance_mat = np.zeros((len(feature_names), run_total))\n",
    "\n",
    "accuracy_list = np.zeros((run_total))\n",
    "precision_list = np.zeros((run_total))\n",
    "recall_list = np.zeros((run_total))\n",
    "\n",
    "ytestlist = [] \n",
    "ypredlist = [] \n",
    "\n",
    "n=0\n",
    "for loop_ind in range(0, num_of_loops): \n",
    "    \n",
    "    X_mat_resampled, labels_resampled = resample(X_mat, labels, n_samples=len(labels), replace=True)\n",
    "    \n",
    "    \n",
    "    for train_index, test_index in skf.split(X_mat_resampled, labels_resampled):\n",
    "\n",
    "        X_train = X_mat_resampled[train_index, :]\n",
    "        X_test = X_mat_resampled[test_index, :]\n",
    "        y_train = labels_resampled[train_index]\n",
    "        y_test = labels_resampled[test_index]\n",
    "\n",
    "        rf.fit(X_train, y_train)\n",
    "        y_pred = rf.predict(X_test)\n",
    "\n",
    "        imp = rfpimp.importances(rf, pd.DataFrame(X_test, columns=feature_names),\\\n",
    "                                 pd.DataFrame(y_test)) # permutation\n",
    "        foo = imp.reindex(feature_names).values\n",
    "        imp = foo.flatten()\n",
    "        importance_mat[:, n] = imp\n",
    "        \n",
    "        \n",
    "        ytestlist.append(y_test)\n",
    "        ypredlist.append(y_pred)\n",
    "\n",
    "        accuracy_list[n] = metrics.accuracy_score(y_test, y_pred)\n",
    "        n = n + 1\n",
    "        break\n",
    "    print(n)\n",
    "\n",
    "print(\"Accuracy:\", np.mean(accuracy_list))"
   ]
  },
  {
   "cell_type": "code",
   "execution_count": null,
   "metadata": {},
   "outputs": [],
   "source": [
    "ytestlist = np.array(ytestlist)\n",
    "ytestlist = np.concatenate(ytestlist)\n",
    "\n",
    "ypredlist = np.array(ypredlist)\n",
    "ypredlist = np.concatenate(ypredlist)"
   ]
  },
  {
   "cell_type": "code",
   "execution_count": null,
   "metadata": {},
   "outputs": [],
   "source": [
    "#true (rows), predicted (columns) "
   ]
  },
  {
   "cell_type": "code",
   "execution_count": null,
   "metadata": {},
   "outputs": [],
   "source": [
    "cf_matrix = metrics.confusion_matrix(ytestlist, ypredlist, normalize='true')"
   ]
  },
  {
   "cell_type": "code",
   "execution_count": null,
   "metadata": {
    "scrolled": false
   },
   "outputs": [],
   "source": [
    "plt.figure()\n",
    "sns.heatmap(cf_matrix, annot=True, fmt='.2%', cmap='Blues')\n",
    "plt.xlabel('true')\n",
    "plt.ylabel('predicted')\n",
    "plt.title('confusion matrix')"
   ]
  },
  {
   "cell_type": "code",
   "execution_count": null,
   "metadata": {},
   "outputs": [],
   "source": [
    "np.sum(cf_matrix[:, 0])"
   ]
  },
  {
   "cell_type": "code",
   "execution_count": null,
   "metadata": {},
   "outputs": [],
   "source": [
    "print(metrics.classification_report(ytestlist, ypredlist))"
   ]
  },
  {
   "cell_type": "code",
   "execution_count": null,
   "metadata": {},
   "outputs": [],
   "source": [
    "feature_names = np.array(feature_names)"
   ]
  },
  {
   "cell_type": "code",
   "execution_count": null,
   "metadata": {},
   "outputs": [],
   "source": [
    "# feature_names = np.array(full_feature_names)\n",
    "feature_importance_vec = np.mean(importance_mat, 1)\n",
    "feat_imp_sd = np.std(importance_mat, 1)\n",
    "feat_imp_se = feat_imp_sd #/ np.sqrt(importance_mat.shape[1])\n",
    "\n",
    "\n",
    "zerolist = np.zeros((len(feat_imp_se)))\n",
    "\n",
    "\n",
    "\n",
    "inds = np.flip(np.argsort(feature_importance_vec))\n",
    "sorted_feature_vals = np.flip(np.sort(feature_importance_vec))\n",
    "sorted_feature_name = feature_names[inds]\n",
    "print(sorted_feature_name) \n",
    "\n",
    "fig, ax = plt.subplots(figsize=(8, 6))\n",
    "x_values = sorted_feature_vals*100\n",
    "y_values = np.flip(list(range(0, len(feature_names))))\n",
    "\n",
    "ax.barh(y_values, x_values, xerr=[zerolist, feat_imp_se*100])\n",
    "# ax.errorbar(x_values, y_values, xerr=feat_imp_se*100, fmt='.', color=\"C0\")\n",
    "\n",
    "plt.title('Feature Importance')\n",
    "plt.yticks(np.flip(list(range(0, len(feature_names)))), sorted_feature_name)\n",
    "plt.xlabel('Mean OOBE')\n",
    "plt.tight_layout()\n",
    "plt.rcParams.update({'font.size': 12})\n",
    "ax.xaxis.set_major_formatter(ticker.PercentFormatter())\n",
    "plt.axvline(0.0, 0, 1,linestyle='--')\n",
    "plt.show()\n",
    "\n",
    "# plt.plot([0.5, 0.5], [0, len(sorted_feature_vals)], color='r')\n",
    "\n",
    "plt.tight_layout()\n",
    "\n",
    "print(\"sorted oob percentages: \") \n",
    "print(sorted_feature_vals*100)\n",
    "print(\"sorted SE:\")\n",
    "print(feat_imp_se*100)\n"
   ]
  },
  {
   "cell_type": "code",
   "execution_count": null,
   "metadata": {},
   "outputs": [],
   "source": [
    "d = {\"Feature_names\":sorted_feature_name, \"MeanOOBE\":sorted_feature_vals,\"SE\": feat_imp_se, \"SD\":feat_imp_sd}\n",
    "df = pd.DataFrame(d)\n",
    "\n",
    "df.to_csv('RF_output_CRISISAFAR_Prediction_data.csv')"
   ]
  }
 ],
 "metadata": {
  "kernelspec": {
   "display_name": "Python 3",
   "language": "python",
   "name": "python3"
  },
  "language_info": {
   "codemirror_mode": {
    "name": "ipython",
    "version": 3
   },
   "file_extension": ".py",
   "mimetype": "text/x-python",
   "name": "python",
   "nbconvert_exporter": "python",
   "pygments_lexer": "ipython3",
   "version": "3.7.3"
  }
 },
 "nbformat": 4,
 "nbformat_minor": 4
}
